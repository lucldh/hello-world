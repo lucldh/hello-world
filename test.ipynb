import numpy as np
mean = np.mean([1,5,7])
print(mean)
